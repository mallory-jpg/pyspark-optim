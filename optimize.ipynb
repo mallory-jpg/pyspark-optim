{
 "cells": [
  {
   "cell_type": "code",
   "execution_count": 1,
   "metadata": {},
   "outputs": [],
   "source": [
    "import pyspark\n",
    "from pyspark.sql import SparkSession\n",
    "from pyspark.sql.functions import col, count, month, broadcast\n",
    "\n",
    "import os"
   ]
  },
  {
   "cell_type": "code",
   "execution_count": 2,
   "metadata": {},
   "outputs": [],
   "source": [
    "spark = SparkSession.builder.appName('Optimize I').getOrCreate()"
   ]
  },
  {
   "cell_type": "code",
   "execution_count": 3,
   "metadata": {},
   "outputs": [
    {
     "name": "stdout",
     "output_type": "stream",
     "text": [
      "Answers Input Path:  /Users/mallory/Desktop/DataEngineering/Springboard/DistributedComputing/SparkOptim/data/answers\n",
      "Questions Input Path:  /Users/mallory/Desktop/DataEngineering/Springboard/DistributedComputing/SparkOptim/data/questions\n"
     ]
    }
   ],
   "source": [
    "base_path = os.getcwd()\n",
    "\n",
    "# project_path = ('/').join(base_path.split('/')[0:-3])\n",
    "project_path = '/Users/mallory/Desktop/DataEngineering/Springboard/DistributedComputing/SparkOptim'\n",
    "\n",
    "answers_input_path = os.path.join(project_path, 'data/answers')\n",
    "print('Answers Input Path: ', answers_input_path)\n",
    "\n",
    "questions_input_path = os.path.join(project_path, 'data/questions')\n",
    "print('Questions Input Path: ', questions_input_path)\n",
    "\n"
   ]
  },
  {
   "cell_type": "code",
   "execution_count": 14,
   "metadata": {},
   "outputs": [],
   "source": [
    "answersDF = spark.read.option('path', answers_input_path).load()\n",
    "\n",
    "questionsDF = spark.read.option('path', questions_input_path).load()\n"
   ]
  },
  {
   "cell_type": "code",
   "execution_count": 11,
   "metadata": {},
   "outputs": [
    {
     "name": "stdout",
     "output_type": "stream",
     "text": [
      "+-----------+---------+-----------------------+--------+-------+-----+\n",
      "|question_id|answer_id|creation_date          |comments|user_id|score|\n",
      "+-----------+---------+-----------------------+--------+-------+-----+\n",
      "|226592     |226595   |2015-12-29 17:46:42.963|3       |82798  |2    |\n",
      "|388057     |388062   |2018-02-22 12:52:16.39 |8       |520    |21   |\n",
      "|293286     |293305   |2016-11-17 15:35:58.763|0       |47472  |2    |\n",
      "|442499     |442503   |2018-11-22 00:34:33.433|0       |137289 |0    |\n",
      "|293009     |293031   |2016-11-16 07:36:35.937|0       |83721  |0    |\n",
      "|395532     |395537   |2018-03-25 00:51:18.84 |0       |1325   |0    |\n",
      "|329826     |329843   |2017-04-29 10:42:49.757|4       |520    |1    |\n",
      "|294710     |295061   |2016-11-26 19:29:17.543|2       |114696 |2    |\n",
      "|291910     |291917   |2016-11-10 04:56:39.403|0       |114696 |2    |\n",
      "|372382     |372394   |2017-12-03 20:17:41.083|0       |172328 |0    |\n",
      "|178387     |178394   |2015-04-25 12:31:28.92 |6       |62726  |0    |\n",
      "|393947     |393948   |2018-03-17 17:22:51.4  |0       |165299 |9    |\n",
      "|432001     |432696   |2018-10-05 03:47:51.747|1       |102218 |0    |\n",
      "|322740     |322746   |2017-03-31 13:10:28.347|0       |392    |0    |\n",
      "|397003     |397008   |2018-04-01 06:31:08.643|1       |189394 |6    |\n",
      "|223572     |223628   |2015-12-11 23:40:40.443|0       |94772  |-1   |\n",
      "|220328     |220331   |2015-11-24 09:57:30.343|3       |92883  |1    |\n",
      "|176400     |176491   |2015-04-16 08:13:23.517|0       |40330  |0    |\n",
      "|265167     |265179   |2016-06-28 06:58:24.403|0       |46790  |0    |\n",
      "|309103     |309105   |2017-02-01 11:00:32.963|2       |89597  |2    |\n",
      "+-----------+---------+-----------------------+--------+-------+-----+\n",
      "only showing top 20 rows\n",
      "\n"
     ]
    }
   ],
   "source": [
    "answersDF.show(truncate=False)"
   ]
  },
  {
   "cell_type": "code",
   "execution_count": 13,
   "metadata": {},
   "outputs": [
    {
     "name": "stdout",
     "output_type": "stream",
     "text": [
      "+-----------+--------------------+--------------------+--------------------+------------------+--------+-------+-----+\n",
      "|question_id|                tags|       creation_date|               title|accepted_answer_id|comments|user_id|views|\n",
      "+-----------+--------------------+--------------------+--------------------+------------------+--------+-------+-----+\n",
      "|     382738|[optics, waves, f...|2018-01-28 01:22:...|What is the pseud...|            382772|       0|  76347|   32|\n",
      "|     370717|[field-theory, de...|2017-11-25 03:09:...|What is the defin...|              null|       1|  75085|   82|\n",
      "|     339944|[general-relativi...|2017-06-17 15:32:...|Could gravitation...|              null|      13| 116137|  333|\n",
      "|     233852|[homework-and-exe...|2016-02-04 15:19:...|When does travell...|              null|       9|  95831|  185|\n",
      "|     294165|[quantum-mechanic...|2016-11-22 05:39:...|Time-dependent qu...|              null|       1| 118807|   56|\n",
      "|     173819|[homework-and-exe...|2015-04-02 10:56:...|Finding Magnetic ...|              null|       5|  76767| 3709|\n",
      "|     265198|    [thermodynamics]|2016-06-28 09:56:...|Physical meaning ...|              null|       2|  65035| 1211|\n",
      "|     175015|[quantum-mechanic...|2015-04-08 20:24:...|Understanding a m...|              null|       1|  76155|  326|\n",
      "|     413973|[quantum-mechanic...|2018-06-27 08:29:...|Incorporate spino...|              null|       3| 167682|   81|\n",
      "|     303670|[quantum-field-th...|2017-01-08 00:05:...|A Wilson line pro...|              null|       0| 101968|  184|\n",
      "|     317368|[general-relativi...|2017-03-08 13:53:...|Shouldn't Torsion...|              null|       0|  20427|  305|\n",
      "|     369982|[quantum-mechanic...|2017-11-20 21:11:...|Incompressible in...|              null|       4| 124864|   83|\n",
      "|     239745|[quantum-mechanic...|2016-02-25 02:51:...|Is this correct? ...|            239773|       2|  89821|   78|\n",
      "|     412294|[quantum-mechanic...|2018-06-17 19:46:...|Is electron/photo...|              null|       0|    605|   61|\n",
      "|     437521|[thermodynamics, ...|2018-10-29 01:49:...|Distance Dependen...|              null|       2| 211152|   19|\n",
      "|     289701|[quantum-field-th...|2016-10-29 22:56:...|Generalize QFT wi...|              null|       4|  31922|   49|\n",
      "|     239505|[definition, stab...|2016-02-24 04:51:...|conditions for so...|              null|       3| 102021|  121|\n",
      "|     300744|[electromagnetism...|2016-12-24 12:14:...|Maxwell equations...|            300749|       0| 112190|  171|\n",
      "|     217315|[nuclear-physics,...|2015-11-08 03:13:...|Is the direction ...|              null|       1|  60150| 1749|\n",
      "|     334778|[cosmology, cosmo...|2017-05-22 08:58:...|Why are fluctatio...|            334791|       3| 109312|  110|\n",
      "+-----------+--------------------+--------------------+--------------------+------------------+--------+-------+-----+\n",
      "only showing top 20 rows\n",
      "\n"
     ]
    }
   ],
   "source": [
    "questionsDF.show(truncate=True)"
   ]
  },
  {
   "cell_type": "code",
   "execution_count": 15,
   "metadata": {},
   "outputs": [
    {
     "data": {
      "text/plain": [
       "DataFrame[question_id: bigint, month: int, cnt: bigint]"
      ]
     },
     "execution_count": 15,
     "metadata": {},
     "output_type": "execute_result"
    }
   ],
   "source": [
    "answers_by_month = answersDF.withColumn('month', month('creation_date')).groupBy(\n",
    "    'question_id', 'month').agg(count('*').alias('cnt'))\n",
    "# cache\n",
    "answers_by_month.cache()\n",
    "# print(answers_month.is_cached())\n"
   ]
  },
  {
   "cell_type": "code",
   "execution_count": 10,
   "metadata": {},
   "outputs": [
    {
     "name": "stdout",
     "output_type": "stream",
     "text": [
      "+-----------+-----+---+\n",
      "|question_id|month|cnt|\n",
      "+-----------+-----+---+\n",
      "|     358894|    9|  5|\n",
      "|     332782|    5|  2|\n",
      "|     281552|    9|  2|\n",
      "|     332224|    5|  1|\n",
      "|     395851|    3|  3|\n",
      "|     192346|    7|  1|\n",
      "|     302487|    1|  3|\n",
      "|     317571|    3|  2|\n",
      "|     179458|    5|  2|\n",
      "|     294966|   11|  5|\n",
      "|     199602|    8|  6|\n",
      "|     251275|    4|  2|\n",
      "|     208722|    9|  1|\n",
      "|     284125|   10|  1|\n",
      "|     427452|    9|  4|\n",
      "|     399738|    4|  1|\n",
      "|     217997|   11|  4|\n",
      "|     386225|    2|  1|\n",
      "|     305095|    1|  3|\n",
      "|     206822|    9|  6|\n",
      "+-----------+-----+---+\n",
      "only showing top 20 rows\n",
      "\n"
     ]
    }
   ],
   "source": [
    "answers_by_month.show()"
   ]
  },
  {
   "cell_type": "code",
   "execution_count": 18,
   "metadata": {},
   "outputs": [
    {
     "name": "stdout",
     "output_type": "stream",
     "text": [
      "== Physical Plan ==\n",
      "*(1) ColumnarToRow\n",
      "+- InMemoryTableScan [question_id#347L, month#375, cnt#391L]\n",
      "      +- InMemoryRelation [question_id#347L, month#375, cnt#391L], StorageLevel(disk, memory, deserialized, 1 replicas)\n",
      "            +- *(2) HashAggregate(keys=[question_id#347L, month#375], functions=[count(1)])\n",
      "               +- Exchange hashpartitioning(question_id#347L, month#375, 200), ENSURE_REQUIREMENTS, [id=#206]\n",
      "                  +- *(1) HashAggregate(keys=[question_id#347L, month#375], functions=[partial_count(1)])\n",
      "                     +- *(1) Project [question_id#347L, month(cast(creation_date#349 as date)) AS month#375]\n",
      "                        +- *(1) ColumnarToRow\n",
      "                           +- FileScan parquet [question_id#347L,creation_date#349] Batched: true, DataFilters: [], Format: Parquet, Location: InMemoryFileIndex[file:/Users/mallory/Desktop/DataEngineering/Springboard/DistributedComputing/Sp..., PartitionFilters: [], PushedFilters: [], ReadSchema: struct<question_id:bigint,creation_date:timestamp>\n",
      "\n",
      "\n"
     ]
    }
   ],
   "source": [
    "answers_by_month.explain()"
   ]
  },
  {
   "cell_type": "code",
   "execution_count": 16,
   "metadata": {},
   "outputs": [
    {
     "name": "stdout",
     "output_type": "stream",
     "text": [
      "+-----------+--------------------+--------------------+-----+---+\n",
      "|question_id|       creation_date|               title|month|cnt|\n",
      "+-----------+--------------------+--------------------+-----+---+\n",
      "|     155989|2014-12-31 19:59:...|Frost bubble form...|    2|  1|\n",
      "|     155989|2014-12-31 19:59:...|Frost bubble form...|   12|  1|\n",
      "|     155990|2014-12-31 20:51:...|The abstract spac...|    1|  2|\n",
      "|     155992|2014-12-31 21:44:...|centrifugal force...|    1|  1|\n",
      "|     155993|2014-12-31 21:56:...|How can I estimat...|    1|  1|\n",
      "|     155995|2014-12-31 23:16:...|Why should a solu...|    1|  3|\n",
      "|     155996|2015-01-01 00:06:...|Why do we assume ...|    1|  2|\n",
      "|     155996|2015-01-01 00:06:...|Why do we assume ...|    2|  1|\n",
      "|     155996|2015-01-01 00:06:...|Why do we assume ...|   11|  1|\n",
      "|     155997|2015-01-01 00:26:...|Why do square sha...|    1|  3|\n",
      "|     155999|2015-01-01 01:01:...|Diagonalizability...|    1|  1|\n",
      "|     156008|2015-01-01 02:48:...|Capturing a light...|    1|  2|\n",
      "|     156008|2015-01-01 02:48:...|Capturing a light...|   11|  1|\n",
      "|     156016|2015-01-01 04:31:...|The interference ...|    1|  1|\n",
      "|     156020|2015-01-01 05:19:...|What is going on ...|    1|  1|\n",
      "|     156021|2015-01-01 05:21:...|How to calculate ...|    2|  1|\n",
      "|     156022|2015-01-01 05:55:...|Advice on Major S...|    1|  1|\n",
      "|     156025|2015-01-01 06:32:...|Deriving the Cano...|    1|  1|\n",
      "|     156026|2015-01-01 06:49:...|Does Bell's inequ...|    1|  3|\n",
      "|     156027|2015-01-01 06:49:...|Deriving X atom f...|    1|  1|\n",
      "+-----------+--------------------+--------------------+-----+---+\n",
      "only showing top 20 rows\n",
      "\n"
     ]
    }
   ],
   "source": [
    "resultDF = answers_by_month.join(broadcast(questionsDF), 'question_id').select(\n",
    "    'question_id', 'creation_date', 'title', 'month', 'cnt')\n",
    "\n",
    "resultDF.orderBy('question_id', 'month').show()\n"
   ]
  },
  {
   "cell_type": "code",
   "execution_count": 17,
   "metadata": {},
   "outputs": [
    {
     "name": "stdout",
     "output_type": "stream",
     "text": [
      "== Physical Plan ==\n",
      "*(2) Project [question_id#347L, creation_date#361, title#362, month#375, cnt#391L]\n",
      "+- *(2) BroadcastHashJoin [question_id#347L], [question_id#359L], Inner, BuildRight, false\n",
      "   :- *(2) Filter isnotnull(question_id#347L)\n",
      "   :  +- *(2) ColumnarToRow\n",
      "   :     +- InMemoryTableScan [question_id#347L, month#375, cnt#391L], [isnotnull(question_id#347L)]\n",
      "   :           +- InMemoryRelation [question_id#347L, month#375, cnt#391L], StorageLevel(disk, memory, deserialized, 1 replicas)\n",
      "   :                 +- *(2) HashAggregate(keys=[question_id#347L, month#375], functions=[count(1)])\n",
      "   :                    +- Exchange hashpartitioning(question_id#347L, month#375, 200), ENSURE_REQUIREMENTS, [id=#206]\n",
      "   :                       +- *(1) HashAggregate(keys=[question_id#347L, month#375], functions=[partial_count(1)])\n",
      "   :                          +- *(1) Project [question_id#347L, month(cast(creation_date#349 as date)) AS month#375]\n",
      "   :                             +- *(1) ColumnarToRow\n",
      "   :                                +- FileScan parquet [question_id#347L,creation_date#349] Batched: true, DataFilters: [], Format: Parquet, Location: InMemoryFileIndex[file:/Users/mallory/Desktop/DataEngineering/Springboard/DistributedComputing/Sp..., PartitionFilters: [], PushedFilters: [], ReadSchema: struct<question_id:bigint,creation_date:timestamp>\n",
      "   +- BroadcastExchange HashedRelationBroadcastMode(List(input[0, bigint, false]),false), [id=#302]\n",
      "      +- *(1) Filter isnotnull(question_id#359L)\n",
      "         +- *(1) ColumnarToRow\n",
      "            +- FileScan parquet [question_id#359L,creation_date#361,title#362] Batched: true, DataFilters: [isnotnull(question_id#359L)], Format: Parquet, Location: InMemoryFileIndex[file:/Users/mallory/Desktop/DataEngineering/Springboard/DistributedComputing/Sp..., PartitionFilters: [], PushedFilters: [IsNotNull(question_id)], ReadSchema: struct<question_id:bigint,creation_date:timestamp,title:string>\n",
      "\n",
      "\n"
     ]
    }
   ],
   "source": [
    "resultDF.explain()"
   ]
  },
  {
   "cell_type": "code",
   "execution_count": 7,
   "metadata": {},
   "outputs": [
    {
     "data": {
      "text/plain": [
       "DataFrame[question_id: bigint, month: int, cnt: bigint]"
      ]
     },
     "execution_count": 7,
     "metadata": {},
     "output_type": "execute_result"
    }
   ],
   "source": [
    "# remove from memory\n",
    "answers_by_month.unpersist()\n"
   ]
  }
 ],
 "metadata": {
  "interpreter": {
   "hash": "b8ff164399de44d2242ec9871c890d2ebb2845b1afce90749cee9373cb01c308"
  },
  "kernelspec": {
   "display_name": "Python 3.8.5 64-bit ('env': venv)",
   "language": "python",
   "name": "python3"
  },
  "language_info": {
   "codemirror_mode": {
    "name": "ipython",
    "version": 3
   },
   "file_extension": ".py",
   "mimetype": "text/x-python",
   "name": "python",
   "nbconvert_exporter": "python",
   "pygments_lexer": "ipython3",
   "version": "3.9.6"
  },
  "orig_nbformat": 4
 },
 "nbformat": 4,
 "nbformat_minor": 2
}
